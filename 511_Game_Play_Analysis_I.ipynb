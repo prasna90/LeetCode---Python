{
  "nbformat": 4,
  "nbformat_minor": 0,
  "metadata": {
    "colab": {
      "name": "511. Game Play Analysis I.ipynb",
      "provenance": [],
      "collapsed_sections": [],
      "toc_visible": true,
      "authorship_tag": "ABX9TyN1j378K+lnqU/d0AIvHkAs",
      "include_colab_link": true
    },
    "kernelspec": {
      "name": "python3",
      "display_name": "Python 3"
    },
    "language_info": {
      "name": "python"
    }
  },
  "cells": [
    {
      "cell_type": "markdown",
      "metadata": {
        "id": "view-in-github",
        "colab_type": "text"
      },
      "source": [
        "<a href=\"https://colab.research.google.com/github/prasna90/LeetCode-Python/blob/master/511_Game_Play_Analysis_I.ipynb\" target=\"_parent\"><img src=\"https://colab.research.google.com/assets/colab-badge.svg\" alt=\"Open In Colab\"/></a>"
      ]
    },
    {
      "cell_type": "markdown",
      "source": [
        "# Question\n",
        "SQL Schema\n",
        "Table: Activity\n",
        "```sql\n",
        "+--------------+---------+\n",
        "| Column Name  | Type    |\n",
        "+--------------+---------+\n",
        "| player_id    | int     |\n",
        "| device_id    | int     |\n",
        "| event_date   | date    |\n",
        "| games_played | int     |\n",
        "+--------------+---------+\n",
        "```\n",
        "(player_id, event_date) is the primary key of this table.\n",
        "This table shows the activity of players of some games.\n",
        "Each row is a record of a player who logged in and played a number of games (possibly 0) before logging out on someday using some device.\n",
        " \n",
        "\n",
        "Write an SQL query to report the first login date for each player.\n",
        "\n",
        "Return the result table in any order.\n",
        "\n",
        "The query result format is in the following example.\n",
        "\n",
        " ```sql\n",
        "\n",
        "Example 1:\n",
        "\n",
        "Input: \n",
        "Activity table:\n",
        "+-----------+-----------+------------+--------------+\n",
        "| player_id | device_id | event_date | games_played |\n",
        "+-----------+-----------+------------+--------------+\n",
        "| 1         | 2         | 2016-03-01 | 5            |\n",
        "| 1         | 2         | 2016-05-02 | 6            |\n",
        "| 2         | 3         | 2017-06-25 | 1            |\n",
        "| 3         | 1         | 2016-03-02 | 0            |\n",
        "| 3         | 4         | 2018-07-03 | 5            |\n",
        "+-----------+-----------+------------+--------------+\n",
        "Output: \n",
        "+-----------+-------------+\n",
        "| player_id | first_login |\n",
        "+-----------+-------------+\n",
        "| 1         | 2016-03-01  |\n",
        "| 2         | 2017-06-25  |\n",
        "| 3         | 2016-03-02  |\n",
        "+-----------+-------------+\n",
        "```"
      ],
      "metadata": {
        "id": "So6dRzP2a_so"
      }
    },
    {
      "cell_type": "markdown",
      "source": [
        "# SQL Class in python\n"
      ],
      "metadata": {
        "id": "D0CZUejF1EyE"
      }
    },
    {
      "cell_type": "code",
      "source": [
        "import pandas as pd\n",
        "\n",
        "class sqlpy():\n",
        "    \n",
        "    def create_table(self,data,cols):\n",
        "      return pd.DataFrame(data,columns= cols)\n",
        "    \n",
        "    def compare_output(self,output,sql_out):\n",
        "      return pd.concat([output,sql_out]).drop_duplicates(keep=False)\n",
        "\n"
      ],
      "metadata": {
        "id": "PJRRLMJh1I5b"
      },
      "execution_count": 27,
      "outputs": []
    },
    {
      "cell_type": "markdown",
      "source": [
        "# Solution\n",
        "\n"
      ],
      "metadata": {
        "id": "FN-7lPtOa2oY"
      }
    },
    {
      "cell_type": "code",
      "execution_count": 20,
      "metadata": {
        "id": "bUbQzkNcOCGh"
      },
      "outputs": [],
      "source": [
        "# Write your MySQL query statement below\n",
        "\n",
        "query = \"\"\"\n",
        "with A as (SELECT player_id , \n",
        "           event_date as first_login,\n",
        "           RANK() OVER(PARTITION BY player_id ORDER BY event_date asc) as freq\n",
        "           FROM Activity)\n",
        "\n",
        "SELECT A.player_id,A.first_login\n",
        "FROM A\n",
        "WHERE A.freq = 1\n",
        "ORDER BY A.player_id;\n",
        "\"\"\"\n"
      ]
    },
    {
      "cell_type": "markdown",
      "source": [
        "# Create dataset and objects"
      ],
      "metadata": {
        "id": "eZeDF4wlZsQs"
      }
    },
    {
      "cell_type": "code",
      "source": [
        "prac = sqlpy()\n",
        "\n",
        "input_data = [[1,2,\"2016-03-01\",5],[1,2,\"2016-05-02\",6],[2,3,\"2017-06-25\",1],[3,1,\"2016-03-02\",0],[3,4,\"2018-07-03\",5]]\n",
        "input_cols= [\"player_id\",\"device_id\",\"event_date\",\"games_played\"]\n",
        "input = prac.create_table(input_data,input_cols)\n",
        "\n",
        "\n",
        "output_data = [[1, \"2016-03-01\"], [2, \"2017-06-25\"], [3, \"2016-03-02\"]]\n",
        "output_cols = [\"player_id\", \"first_login\"]\n",
        "output = prac.create_table(output_data,output_cols)\n",
        "\n",
        "\n",
        "print(input)\n",
        "print(output)\n",
        "\n"
      ],
      "metadata": {
        "id": "F-rBSvU8OIUN",
        "colab": {
          "base_uri": "https://localhost:8080/"
        },
        "outputId": "6ed17d28-7b3d-4339-dad4-9c6b04f8eb07"
      },
      "execution_count": 57,
      "outputs": [
        {
          "output_type": "stream",
          "name": "stdout",
          "text": [
            "   player_id  device_id  event_date  games_played\n",
            "0          1          2  2016-03-01             5\n",
            "1          1          2  2016-05-02             6\n",
            "2          2          3  2017-06-25             1\n",
            "3          3          1  2016-03-02             0\n",
            "4          3          4  2018-07-03             5\n",
            "   player_id first_login\n",
            "0          1  2016-03-01\n",
            "1          2  2017-06-25\n",
            "2          3  2016-03-02\n"
          ]
        }
      ]
    },
    {
      "cell_type": "markdown",
      "source": [
        "#Benchmark Solution\n",
        "\n"
      ],
      "metadata": {
        "id": "CoWWRxZ-Zj80"
      }
    },
    {
      "cell_type": "code",
      "source": [
        "!pip install duckdb"
      ],
      "metadata": {
        "colab": {
          "base_uri": "https://localhost:8080/"
        },
        "id": "yaZr4aqvYkSi",
        "outputId": "5ca6804a-b04f-44ea-d62a-9906139530e4"
      },
      "execution_count": 17,
      "outputs": [
        {
          "output_type": "stream",
          "name": "stdout",
          "text": [
            "Requirement already satisfied: duckdb in /usr/local/lib/python3.7/dist-packages (0.3.2)\n",
            "Requirement already satisfied: numpy>=1.14 in /usr/local/lib/python3.7/dist-packages (from duckdb) (1.21.5)\n"
          ]
        }
      ]
    },
    {
      "cell_type": "code",
      "source": [
        "import duckdb\n",
        "Activity = input\n",
        "sql_out= duckdb.query(query).df()\n",
        "print(sql_out)"
      ],
      "metadata": {
        "colab": {
          "base_uri": "https://localhost:8080/"
        },
        "id": "KvlbWSBbyLKk",
        "outputId": "79d1b7bd-5f02-4289-d2ec-6a7dc09e3fd1"
      },
      "execution_count": 56,
      "outputs": [
        {
          "output_type": "stream",
          "name": "stdout",
          "text": [
            "   player_id first_login\n",
            "0          1  2016-03-01\n",
            "1          2  2017-06-25\n",
            "2          3  2016-03-02\n"
          ]
        }
      ]
    },
    {
      "cell_type": "code",
      "source": [
        "output.merge(sql_out,indicator= True, how='left').loc[lambda x : x['_merge']!='both']"
      ],
      "metadata": {
        "colab": {
          "base_uri": "https://localhost:8080/",
          "height": 49
        },
        "id": "ZK7KgdGa4lCg",
        "outputId": "ca68102f-b63b-448f-d7b2-d0e6822d0509"
      },
      "execution_count": 55,
      "outputs": [
        {
          "output_type": "execute_result",
          "data": {
            "text/html": [
              "\n",
              "  <div id=\"df-fc8d46bb-1e00-4b22-b44b-6682c0bebf4a\">\n",
              "    <div class=\"colab-df-container\">\n",
              "      <div>\n",
              "<style scoped>\n",
              "    .dataframe tbody tr th:only-of-type {\n",
              "        vertical-align: middle;\n",
              "    }\n",
              "\n",
              "    .dataframe tbody tr th {\n",
              "        vertical-align: top;\n",
              "    }\n",
              "\n",
              "    .dataframe thead th {\n",
              "        text-align: right;\n",
              "    }\n",
              "</style>\n",
              "<table border=\"1\" class=\"dataframe\">\n",
              "  <thead>\n",
              "    <tr style=\"text-align: right;\">\n",
              "      <th></th>\n",
              "      <th>player_id</th>\n",
              "      <th>first_login</th>\n",
              "      <th>_merge</th>\n",
              "    </tr>\n",
              "  </thead>\n",
              "  <tbody>\n",
              "  </tbody>\n",
              "</table>\n",
              "</div>\n",
              "      <button class=\"colab-df-convert\" onclick=\"convertToInteractive('df-fc8d46bb-1e00-4b22-b44b-6682c0bebf4a')\"\n",
              "              title=\"Convert this dataframe to an interactive table.\"\n",
              "              style=\"display:none;\">\n",
              "        \n",
              "  <svg xmlns=\"http://www.w3.org/2000/svg\" height=\"24px\"viewBox=\"0 0 24 24\"\n",
              "       width=\"24px\">\n",
              "    <path d=\"M0 0h24v24H0V0z\" fill=\"none\"/>\n",
              "    <path d=\"M18.56 5.44l.94 2.06.94-2.06 2.06-.94-2.06-.94-.94-2.06-.94 2.06-2.06.94zm-11 1L8.5 8.5l.94-2.06 2.06-.94-2.06-.94L8.5 2.5l-.94 2.06-2.06.94zm10 10l.94 2.06.94-2.06 2.06-.94-2.06-.94-.94-2.06-.94 2.06-2.06.94z\"/><path d=\"M17.41 7.96l-1.37-1.37c-.4-.4-.92-.59-1.43-.59-.52 0-1.04.2-1.43.59L10.3 9.45l-7.72 7.72c-.78.78-.78 2.05 0 2.83L4 21.41c.39.39.9.59 1.41.59.51 0 1.02-.2 1.41-.59l7.78-7.78 2.81-2.81c.8-.78.8-2.07 0-2.86zM5.41 20L4 18.59l7.72-7.72 1.47 1.35L5.41 20z\"/>\n",
              "  </svg>\n",
              "      </button>\n",
              "      \n",
              "  <style>\n",
              "    .colab-df-container {\n",
              "      display:flex;\n",
              "      flex-wrap:wrap;\n",
              "      gap: 12px;\n",
              "    }\n",
              "\n",
              "    .colab-df-convert {\n",
              "      background-color: #E8F0FE;\n",
              "      border: none;\n",
              "      border-radius: 50%;\n",
              "      cursor: pointer;\n",
              "      display: none;\n",
              "      fill: #1967D2;\n",
              "      height: 32px;\n",
              "      padding: 0 0 0 0;\n",
              "      width: 32px;\n",
              "    }\n",
              "\n",
              "    .colab-df-convert:hover {\n",
              "      background-color: #E2EBFA;\n",
              "      box-shadow: 0px 1px 2px rgba(60, 64, 67, 0.3), 0px 1px 3px 1px rgba(60, 64, 67, 0.15);\n",
              "      fill: #174EA6;\n",
              "    }\n",
              "\n",
              "    [theme=dark] .colab-df-convert {\n",
              "      background-color: #3B4455;\n",
              "      fill: #D2E3FC;\n",
              "    }\n",
              "\n",
              "    [theme=dark] .colab-df-convert:hover {\n",
              "      background-color: #434B5C;\n",
              "      box-shadow: 0px 1px 3px 1px rgba(0, 0, 0, 0.15);\n",
              "      filter: drop-shadow(0px 1px 2px rgba(0, 0, 0, 0.3));\n",
              "      fill: #FFFFFF;\n",
              "    }\n",
              "  </style>\n",
              "\n",
              "      <script>\n",
              "        const buttonEl =\n",
              "          document.querySelector('#df-fc8d46bb-1e00-4b22-b44b-6682c0bebf4a button.colab-df-convert');\n",
              "        buttonEl.style.display =\n",
              "          google.colab.kernel.accessAllowed ? 'block' : 'none';\n",
              "\n",
              "        async function convertToInteractive(key) {\n",
              "          const element = document.querySelector('#df-fc8d46bb-1e00-4b22-b44b-6682c0bebf4a');\n",
              "          const dataTable =\n",
              "            await google.colab.kernel.invokeFunction('convertToInteractive',\n",
              "                                                     [key], {});\n",
              "          if (!dataTable) return;\n",
              "\n",
              "          const docLinkHtml = 'Like what you see? Visit the ' +\n",
              "            '<a target=\"_blank\" href=https://colab.research.google.com/notebooks/data_table.ipynb>data table notebook</a>'\n",
              "            + ' to learn more about interactive tables.';\n",
              "          element.innerHTML = '';\n",
              "          dataTable['output_type'] = 'display_data';\n",
              "          await google.colab.output.renderOutput(dataTable, element);\n",
              "          const docLink = document.createElement('div');\n",
              "          docLink.innerHTML = docLinkHtml;\n",
              "          element.appendChild(docLink);\n",
              "        }\n",
              "      </script>\n",
              "    </div>\n",
              "  </div>\n",
              "  "
            ],
            "text/plain": [
              "Empty DataFrame\n",
              "Columns: [player_id, first_login, _merge]\n",
              "Index: []"
            ]
          },
          "metadata": {},
          "execution_count": 55
        }
      ]
    },
    {
      "cell_type": "markdown",
      "source": [
        "# Submission\n",
        "```sql\n",
        "Runtime: 667 ms, faster than 24.56% of MySQL online submissions for Game Play Analysis I.\n",
        "Memory Usage: 0B, less than 100.00% of MySQL online submissions for Game Play Analysis I.\n",
        "```\n"
      ],
      "metadata": {
        "id": "FpD_wsz0srt0"
      }
    }
  ]
}