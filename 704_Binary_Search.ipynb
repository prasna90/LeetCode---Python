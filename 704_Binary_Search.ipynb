{
  "nbformat": 4,
  "nbformat_minor": 0,
  "metadata": {
    "colab": {
      "name": "704.Binary Search.ipynb",
      "provenance": [],
      "collapsed_sections": [],
      "toc_visible": true,
      "authorship_tag": "ABX9TyPIAYsiFl2BYdN2yCVa9wSw",
      "include_colab_link": true
    },
    "kernelspec": {
      "name": "python3",
      "display_name": "Python 3"
    },
    "language_info": {
      "name": "python"
    }
  },
  "cells": [
    {
      "cell_type": "markdown",
      "metadata": {
        "id": "view-in-github",
        "colab_type": "text"
      },
      "source": [
        "<a href=\"https://colab.research.google.com/github/prasna90/LeetCode-Python/blob/master/704_Binary_Search.ipynb\" target=\"_parent\"><img src=\"https://colab.research.google.com/assets/colab-badge.svg\" alt=\"Open In Colab\"/></a>"
      ]
    },
    {
      "cell_type": "markdown",
      "source": [
        "# Question\n",
        "\n",
        "Given an array of integers nums which is sorted in ascending order, and an integer target, write a function to search target in nums. If target exists, then return its index. Otherwise, return -1.\n",
        "\n",
        "You must write an algorithm with O(log n) runtime complexity.\n",
        "\n",
        " \n",
        "\n",
        "Example 1:\n",
        "\n",
        "Input: nums = [-1,0,3,5,9,12], target = 9\n",
        "Output: 4\n",
        "Explanation: 9 exists in nums and its index is 4\n",
        "Example 2:\n",
        "\n",
        "Input: nums = [-1,0,3,5,9,12], target = 2\n",
        "Output: -1\n",
        "Explanation: 2 does not exist in nums so return -1\n",
        " \n",
        "\n",
        "Constraints:\n",
        "\n",
        "1 <= nums.length <= 104\n",
        "-104 < nums[i], target < 104\n",
        "All the integers in nums are unique.\n",
        "nums is sorted in ascending order.\n",
        "\n"
      ],
      "metadata": {
        "id": "So6dRzP2a_so"
      }
    },
    {
      "cell_type": "markdown",
      "source": [
        "# Solution\n",
        "\n"
      ],
      "metadata": {
        "id": "FN-7lPtOa2oY"
      }
    },
    {
      "cell_type": "code",
      "execution_count": 91,
      "metadata": {
        "id": "bUbQzkNcOCGh"
      },
      "outputs": [],
      "source": [
        "class Solution(object):\n",
        "\n",
        "    def linear_search(self, nums, target):\n",
        "        n = len(nums)\n",
        "        for i in range(0,n):\n",
        "            if int(nums[i]) == int(target):\n",
        "                result =  i\n",
        "                break\n",
        "            else :\n",
        "                result =  -1\n",
        "        return result\n",
        "\n",
        "    def binary_search_recursive(self, nums,target,left,right):\n",
        "\n",
        "        if left <= right:\n",
        "            pivot = left + (right - left) // 2\n",
        "            if nums[pivot] == target:\n",
        "                return pivot\n",
        "            elif target < nums[pivot]:\n",
        "                binary_search_recursive(nums,target,left,right-1)\n",
        "            else:\n",
        "                binary_search_recursive(nums,target,left+1,right)\n",
        "        return -1\n",
        "\n",
        "    def binary_search_iterative(self, nums, target):\n",
        "        left, right = 0, len(nums) - 1\n",
        "        while left <= right:\n",
        "            pivot = left + (right - left) // 2\n",
        "            if nums[pivot] == target:\n",
        "                return pivot\n",
        "            elif target < nums[pivot]:\n",
        "                right = pivot - 1\n",
        "            else:\n",
        "                left = pivot + 1\n",
        "        return -1\n",
        "\n",
        "\n",
        "  \n",
        "\n",
        "\n"
      ]
    },
    {
      "cell_type": "markdown",
      "source": [
        "# Create dataset and objects"
      ],
      "metadata": {
        "id": "eZeDF4wlZsQs"
      }
    },
    {
      "cell_type": "code",
      "source": [
        "first = -9999\n",
        "last = 9999\n",
        "nums = list(range(first,last,1))\n",
        "target = 9033\n",
        "left = 0\n",
        "right = len(nums)-1\n",
        "\n",
        "### Create object\n",
        "prac = Solution()\n"
      ],
      "metadata": {
        "id": "F-rBSvU8OIUN"
      },
      "execution_count": 89,
      "outputs": []
    },
    {
      "cell_type": "markdown",
      "source": [
        "###Check recursion limit\n"
      ],
      "metadata": {
        "id": "Q2W1JDZOa1Q0"
      }
    },
    {
      "cell_type": "code",
      "source": [
        "import sys\n",
        "print(sys.getrecursionlimit())"
      ],
      "metadata": {
        "colab": {
          "base_uri": "https://localhost:8080/"
        },
        "id": "eqXxCGlUj76H",
        "outputId": "6c4fc592-5ab9-44cb-bf43-ffd1d672cd16"
      },
      "execution_count": 95,
      "outputs": [
        {
          "output_type": "stream",
          "name": "stdout",
          "text": [
            "1000\n"
          ]
        }
      ]
    },
    {
      "cell_type": "markdown",
      "source": [
        "#Benchmark Solution\n",
        "\n"
      ],
      "metadata": {
        "id": "CoWWRxZ-Zj80"
      }
    },
    {
      "cell_type": "code",
      "source": [
        "try:\n",
        "    %timeit prac.linear_search(nums,target)\n",
        "except Exception as e:\n",
        "      print (e.message, e.args)\n"
      ],
      "metadata": {
        "colab": {
          "base_uri": "https://localhost:8080/"
        },
        "id": "yaZr4aqvYkSi",
        "outputId": "2759949a-6540-4112-92d8-0602cf677076"
      },
      "execution_count": 92,
      "outputs": [
        {
          "output_type": "stream",
          "name": "stdout",
          "text": [
            "100 loops, best of 5: 6.98 ms per loop\n"
          ]
        }
      ]
    },
    {
      "cell_type": "code",
      "source": [
        "try:\n",
        "  %timeit prac.binary_search_iterative(nums,target)\n",
        "except Exception as e:\n",
        "      print (e.message, e.args)"
      ],
      "metadata": {
        "colab": {
          "base_uri": "https://localhost:8080/"
        },
        "id": "ve3o7ZpRYuqA",
        "outputId": "07595df6-e988-4221-d5b8-1efc283e3cd2"
      },
      "execution_count": 93,
      "outputs": [
        {
          "output_type": "stream",
          "name": "stdout",
          "text": [
            "100000 loops, best of 5: 3.91 µs per loop\n"
          ]
        }
      ]
    },
    {
      "cell_type": "code",
      "source": [
        "try:\n",
        "  %timeit prac.binary_search_recursive(nums,target,left,right)\n",
        "except Exception as e:\n",
        "  print(\"ERROR : \"+str(e))"
      ],
      "metadata": {
        "colab": {
          "base_uri": "https://localhost:8080/"
        },
        "id": "KtsUfis_iWr3",
        "outputId": "b461695f-feff-45e8-acd3-c2a25abcef0b"
      },
      "execution_count": 101,
      "outputs": [
        {
          "output_type": "stream",
          "name": "stdout",
          "text": [
            "ERROR : maximum recursion depth exceeded in comparison\n"
          ]
        }
      ]
    }
  ]
}