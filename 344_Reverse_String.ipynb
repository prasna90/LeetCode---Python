{
  "nbformat": 4,
  "nbformat_minor": 0,
  "metadata": {
    "colab": {
      "name": "344. Reverse String.ipynb",
      "provenance": [],
      "collapsed_sections": [],
      "authorship_tag": "ABX9TyNbh41VMkOsSo7/ou06IS0H",
      "include_colab_link": true
    },
    "kernelspec": {
      "name": "python3",
      "display_name": "Python 3"
    },
    "language_info": {
      "name": "python"
    }
  },
  "cells": [
    {
      "cell_type": "markdown",
      "metadata": {
        "id": "view-in-github",
        "colab_type": "text"
      },
      "source": [
        "<a href=\"https://colab.research.google.com/github/prasna90/LeetCode-Python/blob/master/344_Reverse_String.ipynb\" target=\"_parent\"><img src=\"https://colab.research.google.com/assets/colab-badge.svg\" alt=\"Open In Colab\"/></a>"
      ]
    },
    {
      "cell_type": "markdown",
      "source": [
        "#Question\n",
        "Write a function that reverses a string. The input string is given as an array of characters s.\n",
        "\n",
        "You must do this by modifying the input array in-place with O(1) extra memory.\n",
        "\n",
        " \n",
        "```python\n",
        "Example 1:\n",
        "\n",
        "Input: s = [\"h\",\"e\",\"l\",\"l\",\"o\"]\n",
        "Output: [\"o\",\"l\",\"l\",\"e\",\"h\"]\n",
        "Example 2:\n",
        "\n",
        "Input: s = [\"H\",\"a\",\"n\",\"n\",\"a\",\"h\"]\n",
        "Output: [\"h\",\"a\",\"n\",\"n\",\"a\",\"H\"]\n",
        " \n",
        "\n",
        "Constraints:\n",
        "\n",
        "1 <= s.length <= 105\n",
        "s[i] is a printable ascii character.\n",
        "```"
      ],
      "metadata": {
        "id": "wHNbN7BH_TTx"
      }
    },
    {
      "cell_type": "markdown",
      "source": [
        "#Solution"
      ],
      "metadata": {
        "id": "lOeHpYiFlJ7s"
      }
    },
    {
      "cell_type": "code",
      "source": [
        "class Solution(object):\n",
        "    def reverseString(self, s):\n",
        "        \"\"\"\n",
        "        :type s: List[str]\n",
        "        :rtype: None Do not return anything, modify s in-place instead.\n",
        "        \"\"\"\n",
        "        left , right = 0,len(s)-1\n",
        "        while left<right:\n",
        "            t = s[left]\n",
        "            s[left] = s[right]\n",
        "            s[right] = t\n",
        "            left +=1\n",
        "            right -=1"
      ],
      "metadata": {
        "id": "YiVGfxzo_eNR"
      },
      "execution_count": 5,
      "outputs": []
    },
    {
      "cell_type": "markdown",
      "source": [
        "#Create dataset and objects"
      ],
      "metadata": {
        "id": "hsAet1FBlTL2"
      }
    },
    {
      "cell_type": "code",
      "execution_count": 6,
      "metadata": {
        "id": "6x68P_T5_L5t"
      },
      "outputs": [],
      "source": [
        "s = [\"h\",\"e\",\"l\",\"l\",\"o\"]\n",
        "\n",
        "prac = Solution()"
      ]
    },
    {
      "cell_type": "markdown",
      "source": [
        "#Benchmark Solution"
      ],
      "metadata": {
        "id": "D68lzPVTl3sd"
      }
    },
    {
      "cell_type": "markdown",
      "source": [
        "## Load Memory Profiler"
      ],
      "metadata": {
        "id": "VFSwAwQQsVuR"
      }
    },
    {
      "cell_type": "code",
      "source": [
        "!pip install memory_profiler\n",
        "%load_ext memory_profiler\n"
      ],
      "metadata": {
        "colab": {
          "base_uri": "https://localhost:8080/"
        },
        "id": "nlMoUkVXq2Bs",
        "outputId": "dad77d7c-e029-4ae2-f4ce-ce82cd474523"
      },
      "execution_count": 3,
      "outputs": [
        {
          "output_type": "stream",
          "name": "stdout",
          "text": [
            "Collecting memory_profiler\n",
            "  Downloading memory_profiler-0.60.0.tar.gz (38 kB)\n",
            "Requirement already satisfied: psutil in /usr/local/lib/python3.7/dist-packages (from memory_profiler) (5.4.8)\n",
            "Building wheels for collected packages: memory-profiler\n",
            "  Building wheel for memory-profiler (setup.py) ... \u001b[?25l\u001b[?25hdone\n",
            "  Created wheel for memory-profiler: filename=memory_profiler-0.60.0-py3-none-any.whl size=31284 sha256=3ea32db3172dc6a314261681622e7615e09f6df04bedebf896ea9d27ca3e51b4\n",
            "  Stored in directory: /root/.cache/pip/wheels/67/2b/fb/326e30d638c538e69a5eb0aa47f4223d979f502bbdb403950f\n",
            "Successfully built memory-profiler\n",
            "Installing collected packages: memory-profiler\n",
            "Successfully installed memory-profiler-0.60.0\n"
          ]
        }
      ]
    },
    {
      "cell_type": "markdown",
      "source": [
        "## Memory Profiling\n"
      ],
      "metadata": {
        "id": "K78ZBUYhsYfT"
      }
    },
    {
      "cell_type": "code",
      "source": [
        "%memit prac.reverseString(s)\n"
      ],
      "metadata": {
        "colab": {
          "base_uri": "https://localhost:8080/"
        },
        "id": "RfMMd6umrB4-",
        "outputId": "8d10d652-cf0f-4d7a-c2d5-4c34a1c7fd52"
      },
      "execution_count": 7,
      "outputs": [
        {
          "output_type": "stream",
          "name": "stdout",
          "text": [
            "peak memory: 92.94 MiB, increment: 0.14 MiB\n"
          ]
        }
      ]
    },
    {
      "cell_type": "code",
      "source": [
        "try:\n",
        "    %timeit prac.reverseString(s)\n",
        "except Exception as e:\n",
        "        print(\"ERROR : \"+str(e))\n"
      ],
      "metadata": {
        "colab": {
          "base_uri": "https://localhost:8080/"
        },
        "id": "o5E87xLXl6Gd",
        "outputId": "79d067af-c871-4766-d317-cf7c4b3ad282"
      },
      "execution_count": 8,
      "outputs": [
        {
          "output_type": "stream",
          "name": "stdout",
          "text": [
            "The slowest run took 16.76 times longer than the fastest. This could mean that an intermediate result is being cached.\n",
            "1000000 loops, best of 5: 671 ns per loop\n"
          ]
        }
      ]
    },
    {
      "cell_type": "markdown",
      "source": [
        "# Leet Code Submissions\n",
        "```python\n",
        "Runtime: 176 ms, faster than 78.57% of Python online submissions for Reverse String.\n",
        "Memory Usage: 21 MB, less than 94.16% of Python online submissions for Reverse String.\n",
        "```\n"
      ],
      "metadata": {
        "id": "UARI4L96FMrV"
      }
    }
  ]
}