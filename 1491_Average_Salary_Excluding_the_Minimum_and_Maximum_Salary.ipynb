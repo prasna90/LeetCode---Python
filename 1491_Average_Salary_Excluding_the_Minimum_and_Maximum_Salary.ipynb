{
  "nbformat": 4,
  "nbformat_minor": 0,
  "metadata": {
    "colab": {
      "name": "1491. Average Salary Excluding the Minimum and Maximum Salary.ipynb",
      "provenance": [],
      "collapsed_sections": [],
      "toc_visible": true,
      "authorship_tag": "ABX9TyNaSX8RhCZ316H59V0a64kI",
      "include_colab_link": true
    },
    "kernelspec": {
      "name": "python3",
      "display_name": "Python 3"
    },
    "language_info": {
      "name": "python"
    }
  },
  "cells": [
    {
      "cell_type": "markdown",
      "metadata": {
        "id": "view-in-github",
        "colab_type": "text"
      },
      "source": [
        "<a href=\"https://colab.research.google.com/github/prasna90/LeetCode-Python/blob/master/1491_Average_Salary_Excluding_the_Minimum_and_Maximum_Salary.ipynb\" target=\"_parent\"><img src=\"https://colab.research.google.com/assets/colab-badge.svg\" alt=\"Open In Colab\"/></a>"
      ]
    },
    {
      "cell_type": "markdown",
      "source": [
        "# Question\n",
        "You are given an array of unique integers salary where salary[i] is the salary of the ith employee.\n",
        "\n",
        "Return the average salary of employees excluding the minimum and maximum salary. Answers within 10-5 of the actual answer will be accepted.\n",
        "\n",
        "```\n",
        "\n",
        "Example 1:\n",
        "\n",
        "Input: salary = [4000,3000,1000,2000]\n",
        "Output: 2500.00000\n",
        "Explanation: Minimum salary and maximum salary are 1000 and 4000 respectively.\n",
        "Average salary excluding minimum and maximum salary is (2000+3000) / 2 = 2500\n",
        "Example 2:\n",
        "\n",
        "Input: salary = [1000,2000,3000]\n",
        "Output: 2000.00000\n",
        "Explanation: Minimum salary and maximum salary are 1000 and 3000 respectively.\n",
        "Average salary excluding minimum and maximum salary is (2000) / 1 = 2000\n",
        " \n",
        "\n",
        "Constraints:\n",
        "\n",
        "3 <= salary.length <= 100\n",
        "1000 <= salary[i] <= 106\n",
        "All the integers of salary are unique.You are given an array of unique integers salary where salary[i] is the salary of the ith employee.\n",
        "\n",
        "Return the average salary of employees excluding the minimum and maximum salary. Answers within 10-5 of the actual answer will be accepted.\n",
        "\n",
        " \n",
        "\n",
        "Example 1:\n",
        "\n",
        "Input: salary = [4000,3000,1000,2000]\n",
        "Output: 2500.00000\n",
        "Explanation: Minimum salary and maximum salary are 1000 and 4000 respectively.\n",
        "Average salary excluding minimum and maximum salary is (2000+3000) / 2 = 2500\n",
        "Example 2:\n",
        "\n",
        "Input: salary = [1000,2000,3000]\n",
        "Output: 2000.00000\n",
        "Explanation: Minimum salary and maximum salary are 1000 and 3000 respectively.\n",
        "Average salary excluding minimum and maximum salary is (2000) / 1 = 2000\n",
        " \n",
        "\n",
        "Constraints:\n",
        "\n",
        "3 <= salary.length <= 100\n",
        "1000 <= salary[i] <= 106\n",
        "All the integers of salary are unique.\n",
        "```"
      ],
      "metadata": {
        "id": "So6dRzP2a_so"
      }
    },
    {
      "cell_type": "markdown",
      "source": [
        "# Solution\n",
        "\n"
      ],
      "metadata": {
        "id": "FN-7lPtOa2oY"
      }
    },
    {
      "cell_type": "code",
      "execution_count": null,
      "metadata": {
        "id": "bUbQzkNcOCGh"
      },
      "outputs": [],
      "source": [
        "class Solution(object):\n",
        "\n",
        "    def average(self, salary):\n",
        "        \"\"\"\n",
        "        :type salary: List[int]\n",
        "        :rtype: float\n",
        "        \"\"\"\n",
        "        min = salary[0]\n",
        "        max = sum = 0\n",
        "        \n",
        "        for i in range(0,len(salary)):\n",
        "            if salary[i] < min:\n",
        "                min = salary[i]\n",
        "            if salary[i] > max:\n",
        "                max = salary[i]\n",
        "            sum += salary[i]\n",
        "        \n",
        "        return (sum - (min +max))/float(len(salary)-2)\n",
        "\n",
        "  \n",
        "\n",
        "\n"
      ]
    },
    {
      "cell_type": "markdown",
      "source": [
        "# Create dataset and objects"
      ],
      "metadata": {
        "id": "eZeDF4wlZsQs"
      }
    },
    {
      "cell_type": "code",
      "source": [
        "salary = [48000,59000,99000,13000,78000,45000,31000,17000,39000,37000,93000,77000,33000,28000,4000,54000,67000,6000,1000,11000]\n",
        "\n",
        "\n",
        "### Create object\n",
        "prac = Solution()\n"
      ],
      "metadata": {
        "id": "F-rBSvU8OIUN"
      },
      "execution_count": null,
      "outputs": []
    },
    {
      "cell_type": "markdown",
      "source": [
        "#Benchmark Solution\n",
        "\n"
      ],
      "metadata": {
        "id": "CoWWRxZ-Zj80"
      }
    },
    {
      "cell_type": "code",
      "source": [
        "prac.average(salary)"
      ],
      "metadata": {
        "colab": {
          "base_uri": "https://localhost:8080/"
        },
        "id": "QAmz1MWXeYeZ",
        "outputId": "d4511e2b-0ae7-4ce0-c941-92e3faafe639"
      },
      "execution_count": null,
      "outputs": [
        {
          "output_type": "execute_result",
          "data": {
            "text/plain": [
              "41111.11111111111"
            ]
          },
          "metadata": {},
          "execution_count": 4
        }
      ]
    },
    {
      "cell_type": "code",
      "source": [
        "try:\n",
        "    %timeit prac.average(salary)\n",
        "except Exception as e:\n",
        "        print(\"ERROR : \"+str(e))\n"
      ],
      "metadata": {
        "colab": {
          "base_uri": "https://localhost:8080/"
        },
        "id": "yaZr4aqvYkSi",
        "outputId": "2c287368-6eac-4f9a-f7b5-b5f67ab574e0"
      },
      "execution_count": null,
      "outputs": [
        {
          "output_type": "stream",
          "name": "stdout",
          "text": [
            "100000 loops, best of 5: 4.67 µs per loop\n"
          ]
        }
      ]
    },
    {
      "cell_type": "markdown",
      "source": [
        "# Submission\n",
        "\n",
        "```\n",
        "Runtime: 25 ms, faster than 46.96% of Python online submissions for Average Salary Excluding the Minimum and Maximum Salary.\n",
        "Memory Usage: 13.3 MB, less than 71.05% of Python online submissions for Average Salary Excluding the Minimum and Maximum Salary.\n",
        "```"
      ],
      "metadata": {
        "id": "qQwQvRzVe1JV"
      }
    }
  ]
}