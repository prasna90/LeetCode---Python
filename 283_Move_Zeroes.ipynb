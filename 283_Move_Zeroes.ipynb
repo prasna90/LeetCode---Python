{
  "nbformat": 4,
  "nbformat_minor": 0,
  "metadata": {
    "colab": {
      "name": "283. Move Zeroes.ipynb",
      "provenance": [],
      "authorship_tag": "ABX9TyMoy4garBMKLE1K4QFZ8WuN",
      "include_colab_link": true
    },
    "kernelspec": {
      "name": "python3",
      "display_name": "Python 3"
    },
    "language_info": {
      "name": "python"
    }
  },
  "cells": [
    {
      "cell_type": "markdown",
      "metadata": {
        "id": "view-in-github",
        "colab_type": "text"
      },
      "source": [
        "<a href=\"https://colab.research.google.com/github/prasna90/LeetCode-Python/blob/master/283_Move_Zeroes.ipynb\" target=\"_parent\"><img src=\"https://colab.research.google.com/assets/colab-badge.svg\" alt=\"Open In Colab\"/></a>"
      ]
    },
    {
      "cell_type": "markdown",
      "source": [
        "#Question\n",
        "Given an integer array nums, move all 0's to the end of it while maintaining the relative order of the non-zero elements.\n",
        "\n",
        "Note that you must do this in-place without making a copy of the array.\n",
        "\n",
        " \n",
        "```python\n",
        "Example 1:\n",
        "\n",
        "Input: nums = [0,1,0,3,12]\n",
        "Output: [1,3,12,0,0]\n",
        "Example 2:\n",
        "\n",
        "Input: nums = [0]\n",
        "Output: [0]\n",
        " \n",
        "\n",
        "Constraints:\n",
        "\n",
        "1 <= nums.length <= 104\n",
        "-231 <= nums[i] <= 231 - 1\n",
        " ```\n",
        "\n",
        "Follow up: Could you minimize the total number of operations done?\n"
      ],
      "metadata": {
        "id": "wHNbN7BH_TTx"
      }
    },
    {
      "cell_type": "markdown",
      "source": [
        "#Solution"
      ],
      "metadata": {
        "id": "lOeHpYiFlJ7s"
      }
    },
    {
      "cell_type": "code",
      "source": [
        "class Solution(object):\n",
        "    def moveZeroes(self, nums):\n",
        "        \"\"\"\n",
        "        :type nums: List[int]\n",
        "        :rtype: None Do not return anything, modify nums in-place instead.\n",
        "        \"\"\"\n",
        "        slow = fast = 0\n",
        "        while fast < len(nums):\n",
        "            if nums[fast] != 0:\n",
        "                nums[fast], nums[slow] = nums[slow], nums[fast]\n",
        "                slow += 1\n",
        "            fast += 1"
      ],
      "metadata": {
        "id": "YiVGfxzo_eNR"
      },
      "execution_count": 2,
      "outputs": []
    },
    {
      "cell_type": "markdown",
      "source": [
        "#Create dataset and objects"
      ],
      "metadata": {
        "id": "hsAet1FBlTL2"
      }
    },
    {
      "cell_type": "code",
      "execution_count": 3,
      "metadata": {
        "id": "6x68P_T5_L5t"
      },
      "outputs": [],
      "source": [
        "#first = -231\n",
        "#last = 231\n",
        "#nums = list(range(first,last,5))\n",
        "#k = 67\n",
        "#print(len(nums))\n",
        "\n",
        "\n",
        "nums = [0,0,0,12,23,55,63,1,0,23,56,0,0]\n",
        "### Create object\n",
        "prac = Solution()"
      ]
    },
    {
      "cell_type": "markdown",
      "source": [
        "#Benchmark Solution"
      ],
      "metadata": {
        "id": "D68lzPVTl3sd"
      }
    },
    {
      "cell_type": "markdown",
      "source": [
        "## Load Memory Profiler"
      ],
      "metadata": {
        "id": "VFSwAwQQsVuR"
      }
    },
    {
      "cell_type": "code",
      "source": [
        "!pip install memory_profiler\n",
        "%load_ext memory_profiler\n"
      ],
      "metadata": {
        "colab": {
          "base_uri": "https://localhost:8080/"
        },
        "id": "nlMoUkVXq2Bs",
        "outputId": "f095b0fb-1a1e-4a8f-c9a2-34fa3e621a75"
      },
      "execution_count": 5,
      "outputs": [
        {
          "output_type": "stream",
          "name": "stdout",
          "text": [
            "Collecting memory_profiler\n",
            "  Downloading memory_profiler-0.60.0.tar.gz (38 kB)\n",
            "Requirement already satisfied: psutil in /usr/local/lib/python3.7/dist-packages (from memory_profiler) (5.4.8)\n",
            "Building wheels for collected packages: memory-profiler\n",
            "  Building wheel for memory-profiler (setup.py) ... \u001b[?25l\u001b[?25hdone\n",
            "  Created wheel for memory-profiler: filename=memory_profiler-0.60.0-py3-none-any.whl size=31284 sha256=d2d556dcbc2906d32a53e87accbdc0ffc2cbfcf56b4e3cf44e1e13142efb3c8f\n",
            "  Stored in directory: /root/.cache/pip/wheels/67/2b/fb/326e30d638c538e69a5eb0aa47f4223d979f502bbdb403950f\n",
            "Successfully built memory-profiler\n",
            "Installing collected packages: memory-profiler\n",
            "Successfully installed memory-profiler-0.60.0\n"
          ]
        }
      ]
    },
    {
      "cell_type": "markdown",
      "source": [
        "## Memory Profiling\n"
      ],
      "metadata": {
        "id": "K78ZBUYhsYfT"
      }
    },
    {
      "cell_type": "code",
      "source": [
        "%memit prac.moveZeroes(nums)\n"
      ],
      "metadata": {
        "colab": {
          "base_uri": "https://localhost:8080/"
        },
        "id": "RfMMd6umrB4-",
        "outputId": "520624dd-29bd-45fa-926c-2b6a1eba24a3"
      },
      "execution_count": 12,
      "outputs": [
        {
          "output_type": "stream",
          "name": "stdout",
          "text": [
            "peak memory: 93.07 MiB, increment: 0.00 MiB\n"
          ]
        }
      ]
    },
    {
      "cell_type": "code",
      "source": [
        "try:\n",
        "    %timeit prac.moveZeroes(nums)\n",
        "except Exception as e:\n",
        "        print(\"ERROR : \"+str(e))\n"
      ],
      "metadata": {
        "colab": {
          "base_uri": "https://localhost:8080/"
        },
        "id": "o5E87xLXl6Gd",
        "outputId": "aee3a917-9479-49cf-82d9-ea8381eb59a0"
      },
      "execution_count": 8,
      "outputs": [
        {
          "output_type": "stream",
          "name": "stdout",
          "text": [
            "100000 loops, best of 5: 3.35 µs per loop\n"
          ]
        }
      ]
    }
  ]
}