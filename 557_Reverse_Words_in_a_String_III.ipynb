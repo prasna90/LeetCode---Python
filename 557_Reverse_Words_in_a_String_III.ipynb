{
  "nbformat": 4,
  "nbformat_minor": 0,
  "metadata": {
    "colab": {
      "name": "557. Reverse Words in a String III.ipynb",
      "provenance": [],
      "collapsed_sections": [],
      "authorship_tag": "ABX9TyOsT45v9ox0AbEP2A856J5K",
      "include_colab_link": true
    },
    "kernelspec": {
      "name": "python3",
      "display_name": "Python 3"
    },
    "language_info": {
      "name": "python"
    }
  },
  "cells": [
    {
      "cell_type": "markdown",
      "metadata": {
        "id": "view-in-github",
        "colab_type": "text"
      },
      "source": [
        "<a href=\"https://colab.research.google.com/github/prasna90/LeetCode-Python/blob/master/557_Reverse_Words_in_a_String_III.ipynb\" target=\"_parent\"><img src=\"https://colab.research.google.com/assets/colab-badge.svg\" alt=\"Open In Colab\"/></a>"
      ]
    },
    {
      "cell_type": "markdown",
      "source": [
        "#Question\n",
        "Given a string s, reverse the order of characters in each word within a sentence while still preserving whitespace and initial word order.\n",
        "\n",
        " \n",
        "```python\n",
        "Example 1:\n",
        "\n",
        "Input: s = \"Let's take LeetCode contest\"\n",
        "Output: \"s'teL ekat edoCteeL tsetnoc\"\n",
        "Example 2:\n",
        "\n",
        "Input: s = \"God Ding\"\n",
        "Output: \"doG gniD\"\n",
        " \n",
        "\n",
        "Constraints:\n",
        "\n",
        "1 <= s.length <= 5 * 104\n",
        "s contains printable ASCII characters.\n",
        "s does not contain any leading or trailing spaces.\n",
        "There is at least one word in s.\n",
        "All the words in s are separated by a single space.\n",
        "\n",
        "```"
      ],
      "metadata": {
        "id": "wHNbN7BH_TTx"
      }
    },
    {
      "cell_type": "markdown",
      "source": [
        "#Solution"
      ],
      "metadata": {
        "id": "lOeHpYiFlJ7s"
      }
    },
    {
      "cell_type": "code",
      "source": [
        "class Solution(object):\n",
        "    def reverseString1(self, s):\n",
        "        \"\"\"\n",
        "        :type s: List[str]\n",
        "        :rtype: None Do not return anything, modify s in-place instead.\n",
        "        \"\"\"\n",
        "        left , right = 0,len(s)-1\n",
        "        while left<right:\n",
        "            t = s[left]\n",
        "            s[left] = s[right]\n",
        "            s[right] = t\n",
        "            left +=1\n",
        "            right -=1\n",
        "\n",
        "    def reverseString2(self, s):\n",
        "        \"\"\"\n",
        "        :type s: str\n",
        "        :rtype: None Do not return anything, modify s in-place instead.\n",
        "        \"\"\"\n",
        "        return ' '.join(s[::-1].split()[::-1])\n",
        "\n",
        "    def reverseString3(self, s):\n",
        "        \"\"\"\n",
        "        :type s: str\n",
        "        :rtype: None Do not return anything, modify s in-place instead.\n",
        "        \"\"\"\n",
        "        return\" \".join(s.split(\" \")[::-1])[::-1]\n",
        "    "
      ],
      "metadata": {
        "id": "YiVGfxzo_eNR"
      },
      "execution_count": 19,
      "outputs": []
    },
    {
      "cell_type": "markdown",
      "source": [
        "#Create dataset and objects"
      ],
      "metadata": {
        "id": "hsAet1FBlTL2"
      }
    },
    {
      "cell_type": "code",
      "execution_count": 20,
      "metadata": {
        "id": "6x68P_T5_L5t"
      },
      "outputs": [],
      "source": [
        "s = [\"Let's take LeetCode contest\"]\n",
        "m = \"Let's take LeetCode contest\"\n",
        "prac = Solution()"
      ]
    },
    {
      "cell_type": "markdown",
      "source": [
        "#Benchmark Solution"
      ],
      "metadata": {
        "id": "D68lzPVTl3sd"
      }
    },
    {
      "cell_type": "markdown",
      "source": [
        "## Load Memory Profiler"
      ],
      "metadata": {
        "id": "VFSwAwQQsVuR"
      }
    },
    {
      "cell_type": "code",
      "source": [
        "!pip install memory_profiler\n",
        "%load_ext memory_profiler\n"
      ],
      "metadata": {
        "colab": {
          "base_uri": "https://localhost:8080/"
        },
        "id": "nlMoUkVXq2Bs",
        "outputId": "1fa8ed9e-8cfd-4f32-ed28-a9e0884d18a9"
      },
      "execution_count": 8,
      "outputs": [
        {
          "output_type": "stream",
          "name": "stdout",
          "text": [
            "Requirement already satisfied: memory_profiler in /usr/local/lib/python3.7/dist-packages (0.60.0)\n",
            "Requirement already satisfied: psutil in /usr/local/lib/python3.7/dist-packages (from memory_profiler) (5.4.8)\n",
            "The memory_profiler extension is already loaded. To reload it, use:\n",
            "  %reload_ext memory_profiler\n"
          ]
        }
      ]
    },
    {
      "cell_type": "markdown",
      "source": [
        "## Memory Profiling\n"
      ],
      "metadata": {
        "id": "K78ZBUYhsYfT"
      }
    },
    {
      "cell_type": "code",
      "source": [
        "%memit prac.reverseString1(s)\n",
        "%memit prac.reverseString2(m)\n",
        "%memit prac.reverseString3(m)\n"
      ],
      "metadata": {
        "colab": {
          "base_uri": "https://localhost:8080/"
        },
        "id": "RfMMd6umrB4-",
        "outputId": "1dcdbcd0-90fd-47d3-9514-607823262e0a"
      },
      "execution_count": 21,
      "outputs": [
        {
          "output_type": "stream",
          "name": "stdout",
          "text": [
            "peak memory: 160.82 MiB, increment: 0.00 MiB\n",
            "peak memory: 160.82 MiB, increment: 0.00 MiB\n",
            "peak memory: 160.82 MiB, increment: 0.00 MiB\n"
          ]
        }
      ]
    },
    {
      "cell_type": "code",
      "source": [
        "try:\n",
        "    %timeit prac.reverseString1(s)\n",
        "except Exception as e:\n",
        "        print(\"ERROR : \"+str(e))\n",
        "\n",
        "try:\n",
        "    %timeit prac.reverseString2(m)\n",
        "except Exception as e:\n",
        "        print(\"ERROR : \"+str(e))\n",
        "\n",
        "try:\n",
        "    %timeit prac.reverseString3(m)\n",
        "except Exception as e:\n",
        "        print(\"ERROR : \"+str(e))\n"
      ],
      "metadata": {
        "colab": {
          "base_uri": "https://localhost:8080/"
        },
        "id": "o5E87xLXl6Gd",
        "outputId": "b4aca4c6-7006-4c4a-f40e-1165cbbc0280"
      },
      "execution_count": 22,
      "outputs": [
        {
          "output_type": "stream",
          "name": "stdout",
          "text": [
            "The slowest run took 17.64 times longer than the fastest. This could mean that an intermediate result is being cached.\n",
            "1000000 loops, best of 5: 260 ns per loop\n",
            "The slowest run took 6.68 times longer than the fastest. This could mean that an intermediate result is being cached.\n",
            "1000000 loops, best of 5: 822 ns per loop\n",
            "The slowest run took 6.84 times longer than the fastest. This could mean that an intermediate result is being cached.\n",
            "1000000 loops, best of 5: 815 ns per loop\n"
          ]
        }
      ]
    },
    {
      "cell_type": "markdown",
      "source": [
        "# Leet Code Submissions\n",
        "reverseString1\n",
        "```python\n",
        "Runtime: 133 ms, faster than 29.87% of Python online submissions for Reverse Words in a String III.\n",
        "Memory Usage: 14.3 MB, less than 89.89% of Python online submissions for Reverse Words in a String III.\n",
        "\n",
        "```\n",
        "\n",
        "reverseString2\n",
        "```python\n",
        "Runtime: 38 ms, faster than 70.28% of Python online submissions for Reverse Words in a String III.\n",
        "Memory Usage: 14.6 MB, less than 30.01% of Python online submissions for Reverse Words in a String III.\n",
        "\n",
        "```\n",
        "\n",
        "\n",
        "reverseString3\n",
        "```python\n",
        "Runtime: 36 ms, faster than 73.68% of Python online submissions for Reverse Words in a String III.\n",
        "Memory Usage: 14.3 MB, less than 81.02% of Python online submissions for Reverse Words in a String III.\n",
        "```"
      ],
      "metadata": {
        "id": "UARI4L96FMrV"
      }
    }
  ]
}