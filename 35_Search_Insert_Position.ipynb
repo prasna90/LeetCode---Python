{
  "nbformat": 4,
  "nbformat_minor": 0,
  "metadata": {
    "colab": {
      "name": "35. Search Insert Position.ipynb",
      "provenance": [],
      "collapsed_sections": [
        "1dNZV01jy30r"
      ],
      "toc_visible": true,
      "authorship_tag": "ABX9TyO63NeUYizGaaLz2euHcOY4",
      "include_colab_link": true
    },
    "kernelspec": {
      "name": "python3",
      "display_name": "Python 3"
    },
    "language_info": {
      "name": "python"
    }
  },
  "cells": [
    {
      "cell_type": "markdown",
      "metadata": {
        "id": "view-in-github",
        "colab_type": "text"
      },
      "source": [
        "<a href=\"https://colab.research.google.com/github/prasna90/LeetCode-Python/blob/master/35_Search_Insert_Position.ipynb\" target=\"_parent\"><img src=\"https://colab.research.google.com/assets/colab-badge.svg\" alt=\"Open In Colab\"/></a>"
      ]
    },
    {
      "cell_type": "markdown",
      "source": [
        "#Question\n",
        "Given a sorted array of distinct integers and a target value, return the index if the target is found. If not, return the index where it would be if it were inserted in order.\n",
        "\n",
        "You must write an algorithm with O(log n) runtime complexity.\n",
        "\n",
        " \n",
        "\n",
        "Example 1:\n",
        "\n",
        "Input: nums = [1,3,5,6], target = 5\n",
        "Output: 2\n",
        "\n",
        "Example 2:\n",
        "\n",
        "Input: nums = [1,3,5,6], target = 2\n",
        "Output: 1\n",
        "\n",
        "Example 3:\n",
        "\n",
        "Input: nums = [1,3,5,6], target = 7\n",
        "Output: 4\n",
        " \n",
        "\n",
        "Constraints:\n",
        "\n",
        "1 <= nums.length <= 104\n",
        "\n",
        "-104 <= nums[i] <= 104\n",
        "\n",
        "nums contains distinct values sorted in ascending order.\n",
        "\n",
        "-104 <= target <= 104"
      ],
      "metadata": {
        "id": "-FFeBb7ny6y0"
      }
    },
    {
      "cell_type": "markdown",
      "source": [
        ""
      ],
      "metadata": {
        "id": "eRrTbSa2zVoT"
      }
    },
    {
      "cell_type": "markdown",
      "source": [
        "#Solution"
      ],
      "metadata": {
        "id": "r3LmufHCzAFX"
      }
    },
    {
      "cell_type": "code",
      "execution_count": 1,
      "metadata": {
        "id": "CNDmiZDOyziH"
      },
      "outputs": [],
      "source": [
        "class Solution(object):\n",
        "    def searchInsert(self, nums, target):\n",
        "        left,right = 0,len(nums)\n",
        "        \n",
        "        if target > nums[-1]:\n",
        "            return len(nums)\n",
        "        \n",
        "        if target < nums[0]:\n",
        "            return 0\n",
        "        \n",
        "        while left<right:\n",
        "            mid = (left+right)//2\n",
        "            \n",
        "            if nums[mid]== target:\n",
        "                return mid\n",
        "            elif nums[mid]>target and nums[mid-1]< target:\n",
        "                return mid\n",
        "            elif nums[mid]>target:\n",
        "                right = mid\n",
        "            else:\n",
        "                left = mid +1\n",
        "            "
      ]
    },
    {
      "cell_type": "markdown",
      "source": [
        "#Create data and object"
      ],
      "metadata": {
        "id": "shP6oconzr_6"
      }
    },
    {
      "cell_type": "code",
      "source": [
        "#Data\n",
        "first = -9999\n",
        "last = 9999\n",
        "nums = list(range(first,last,1))\n",
        "target = 976\n",
        "\n",
        "#Object\n",
        "prac = Solution()"
      ],
      "metadata": {
        "id": "g-ZQoqKJzupE"
      },
      "execution_count": 6,
      "outputs": []
    },
    {
      "cell_type": "markdown",
      "source": [
        "#Benchmark Solution"
      ],
      "metadata": {
        "id": "XYjyLHI7zzvg"
      }
    },
    {
      "cell_type": "code",
      "source": [
        "try:\n",
        "  %timeit prac.searchInsert(nums,target)\n",
        "except Exception as e:\n",
        "  print(str(e))\n"
      ],
      "metadata": {
        "colab": {
          "base_uri": "https://localhost:8080/"
        },
        "id": "RvPH1vQ0zzOZ",
        "outputId": "13620f6f-2784-4be0-a0e7-3ca1973d047f"
      },
      "execution_count": 7,
      "outputs": [
        {
          "output_type": "stream",
          "name": "stdout",
          "text": [
            "100000 loops, best of 5: 5.28 µs per loop\n"
          ]
        }
      ]
    },
    {
      "cell_type": "markdown",
      "source": [
        "#LeetCode Results\n",
        "Runtime: 45 ms, faster than 55.95% of Python online submissions for Search Insert Position.\n",
        "Memory Usage: 14.1 MB, less than 81.65% of Python online submissions for Search Insert Position.\n"
      ],
      "metadata": {
        "id": "1dNZV01jy30r"
      }
    }
  ]
}