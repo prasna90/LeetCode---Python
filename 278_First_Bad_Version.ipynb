{
  "nbformat": 4,
  "nbformat_minor": 0,
  "metadata": {
    "colab": {
      "name": "278. First Bad Version.ipynb",
      "provenance": [],
      "collapsed_sections": [],
      "toc_visible": true,
      "authorship_tag": "ABX9TyNQUE1Govz3X9UPHaJPWNgs",
      "include_colab_link": true
    },
    "kernelspec": {
      "name": "python3",
      "display_name": "Python 3"
    },
    "language_info": {
      "name": "python"
    }
  },
  "cells": [
    {
      "cell_type": "markdown",
      "metadata": {
        "id": "view-in-github",
        "colab_type": "text"
      },
      "source": [
        "<a href=\"https://colab.research.google.com/github/prasna90/LeetCode-Python/blob/master/278_First_Bad_Version.ipynb\" target=\"_parent\"><img src=\"https://colab.research.google.com/assets/colab-badge.svg\" alt=\"Open In Colab\"/></a>"
      ]
    },
    {
      "cell_type": "markdown",
      "source": [
        "#Question\n",
        "\n",
        "You are a product manager and currently leading a team to develop a new product. Unfortunately, the latest version of your product fails the quality check. Since each version is developed based on the previous version, all the versions after a bad version are also bad.\n",
        "\n",
        "Suppose you have n versions [1, 2, ..., n] and you want to find out the first bad one, which causes all the following ones to be bad.\n",
        "\n",
        "You are given an API bool isBadVersion(version) which returns whether version is bad. Implement a function to find the first bad version. You should minimize the number of calls to the API.\n",
        "\n",
        " \n",
        "\n",
        "Example 1:\n",
        "\n",
        "Input: n = 5, bad = 4\n",
        "Output: 4\n",
        "Explanation:\n",
        "call isBadVersion(3) -> false\n",
        "call isBadVersion(5) -> true\n",
        "call isBadVersion(4) -> true\n",
        "Then 4 is the first bad version.\n",
        "Example 2:\n",
        "\n",
        "Input: n = 1, bad = 1\n",
        "Output: 1\n",
        " \n",
        "\n",
        "Constraints:\n",
        "\n",
        "1 <= bad <= n <= 231 - 1"
      ],
      "metadata": {
        "id": "uAzZvMszk9Sw"
      }
    },
    {
      "cell_type": "markdown",
      "source": [
        "#Solution\n"
      ],
      "metadata": {
        "id": "1OFNCn6gk7ti"
      }
    },
    {
      "cell_type": "code",
      "source": [
        "\n",
        "\n",
        "first_bad = 0\n",
        "def isBadVersion(version):\n",
        "   if version >= first_bad:\n",
        "      return True\n",
        "   return False\n",
        "\n",
        "\n",
        "class Solution(object):\n",
        "    def firstBadVersion(self, n):\n",
        "        \"\"\"\n",
        "        :type n: int\n",
        "        :rtype: int\n",
        "        \"\"\"\n",
        "        if n == 1:\n",
        "            return 1\n",
        "        \n",
        "        left, right = 1, n\n",
        "        \n",
        "        while left<=right:\n",
        "            mid = (left+right)//2\n",
        "            if isBadVersion(mid) and not isBadVersion(mid-1):\n",
        "                return mid\n",
        "            elif isBadVersion(mid-1):\n",
        "                right = mid-1\n",
        "            else:\n",
        "                left = mid+1"
      ],
      "metadata": {
        "id": "iZKRc4q6lC4_"
      },
      "execution_count": 12,
      "outputs": []
    },
    {
      "cell_type": "markdown",
      "source": [
        "#Create data and objects"
      ],
      "metadata": {
        "id": "t309mO1mt5xq"
      }
    },
    {
      "cell_type": "code",
      "source": [
        "#Data\n",
        "first_bad = 4534\n",
        "\n",
        "#Object\n",
        "ob1 = Solution()\n",
        "\n"
      ],
      "metadata": {
        "id": "ItvgkrP-to9H"
      },
      "execution_count": 9,
      "outputs": []
    },
    {
      "cell_type": "markdown",
      "source": [
        "#Benchmark Solution\n"
      ],
      "metadata": {
        "id": "YUBVVspJuU87"
      }
    },
    {
      "cell_type": "code",
      "source": [
        "try:\n",
        "  %timeit op = ob1.firstBadVersion(5)\n",
        "except Exception as e:\n",
        "  print(\"ERROR : \"+str(e))"
      ],
      "metadata": {
        "colab": {
          "base_uri": "https://localhost:8080/"
        },
        "id": "W33kCKVXuY-N",
        "outputId": "99f37903-637c-499f-be0e-92c2d605f9d3"
      },
      "execution_count": 10,
      "outputs": [
        {
          "output_type": "stream",
          "name": "stdout",
          "text": [
            "1000000 loops, best of 5: 1.53 µs per loop\n"
          ]
        }
      ]
    },
    {
      "cell_type": "markdown",
      "source": [
        "#LeetCode results\n",
        "Runtime: 21 ms, faster than 57.33% of Python online submissions for First Bad Version.\n",
        "Memory Usage: 13.6 MB, less than 11.13% of Python online submissions for First Bad Version.\n"
      ],
      "metadata": {
        "id": "1NpRQSVOtkrb"
      }
    }
  ]
}